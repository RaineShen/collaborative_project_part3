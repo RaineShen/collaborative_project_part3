{
 "cells": [
  {
   "cell_type": "code",
   "execution_count": 4,
   "metadata": {},
   "outputs": [],
   "source": [
    "from bokeh.plotting import figure, output_file, show\n",
    "from bokeh.layouts import row, gridplot\n",
    "from bokeh.models import HoverTool, ColumnDataSource"
   ]
  },
  {
   "cell_type": "code",
   "execution_count": 5,
   "metadata": {},
   "outputs": [],
   "source": [
    "class Error(Exception):\n",
    "    pass\n",
    "\n",
    "class InputError(Error):\n",
    "    def __init__(self, value):\n",
    "        self.value = value\n",
    "    def __str__(self):\n",
    "        return(repr(self.value))\n",
    "    \n",
    "class LengthError(Error):\n",
    "    def __init__(self, value):\n",
    "        self.value = value\n",
    "    def __str__(self):\n",
    "        return(repr(self.value))\n",
    "    \n",
    "class EqualityError(Error):\n",
    "    def __init__(self, value):\n",
    "        self.value = value\n",
    "    def __str__(self):\n",
    "        return(repr(self.value))"
   ]
  },
  {
   "cell_type": "code",
   "execution_count": 35,
   "metadata": {},
   "outputs": [],
   "source": [
    "\n",
    "def entry():\n",
    "    \n",
    "    \"\"\"\n",
    "    This function is for the user to enter information of the amount of each nutrient\n",
    "    consumed daily for a certain period of time, in order to track nutrients and calorie\n",
    "    intake during this period by using bokeh graphs.\n",
    "    \n",
    "    \"\"\"\n",
    "        \n",
    "    try:        \n",
    "        entry_proteins = input('Enter your daily protein intake in gram, separated by spaces')\n",
    "        if ' ' not in entry_proteins:\n",
    "            raise InputError(entry_proteins)\n",
    "        lstA = entry_proteins.split(' ')\n",
    "        protList = [float(x) for x in lstA]\n",
    "        protCount = len(protList)\n",
    "        if protCount < 7:\n",
    "            raise LengthError(fatCount)\n",
    "        \n",
    "        entry_fats = input('Enter your daily fat intake in gram, separated by spaces')\n",
    "        if ' ' not in entry_fats:\n",
    "            raise InputError(entry_fats)\n",
    "        lstB = entry_fats.split(' ')\n",
    "        fatList = [float(x) for x in lstB]\n",
    "        fatCount = len(fatList)\n",
    "        if fatCount < 7:\n",
    "            raise LengthError(fatCount)\n",
    "        \n",
    "        entry_carbs = input('Enter your daily carbohydrate intake in gram, separated by spaces')\n",
    "        if ' ' not in entry_carbs:\n",
    "            raise InputError(entry_carbs)\n",
    "        lstC = entry_carbs.split(' ')\n",
    "        carbList = [float(x) for x in lstC]\n",
    "        carbCount = len(carbList)\n",
    "        if carbCount < 7:\n",
    "            raise LengthError(carbCount)\n",
    "        \n",
    "    except InputError as ex:\n",
    "        print('Exception raised:', ex.value, 'is a invalid input. A list of number is required')\n",
    "    except LengthError as ex:\n",
    "        print('Exception raised:', ex.value, 'is not enough for tracking')\n",
    "    except EqualityError as ex:\n",
    "        print('Exception raised: length of', ex.value, 'are not equal')\n",
    "    except:\n",
    "        print('There is an error')\n",
    "        \n",
    "    length = len(protList)\n",
    "    if (protCount or fatCount or carbCount) < 7:\n",
    "        raise ValueError('We need records for at least a week')\n",
    "    \n",
    "    elif not all(len(lst) == length for lst in [protList, fatList, carbList]):\n",
    "        raise ValueError('Number of records for all 3 nutrients need to be the same')\n",
    "    \n",
    "    protSum = sum(protList)\n",
    "    fatSum = sum(fatList)\n",
    "    carbSum = sum(carbList)\n",
    "    total_carlo = (protSum+carbSum)*4 + fatSum*9\n",
    "    avg_carlo = total_carlo / len(protList)\n",
    "\n",
    "    dayList = [x+1 for x in range(length)]\n",
    "    protListC = [x*4 for x in protList]\n",
    "    fatListC = [x*9 for x in fatList]\n",
    "    carbListC = [x*4 for x in carbList]\n",
    "    multiLists = [protListC, fatListC, carbListC]\n",
    "    caloList = [sum(k) for k in zip(*multiLists)]\n",
    "\n",
    "    nutriTrack(protList, fatList, carbList, dayList)\n",
    "    calorieTrack(caloList, dayList, avg_carlo)\n",
    "\n",
    "    return caloList\n",
    "\n",
    "def nutriTrack(lst1, lst2, lst3, lst4):\n",
    "    \n",
    "    \"\"\"\n",
    "    Description of the Function\n",
    "\n",
    "    Parameters:\n",
    "    lst1 (list): a list of daily protein intake(g) in a certain time period provided by the user\n",
    "    lst2 (list): a list of daily fat intake(g) in a certain time period provided by the user\n",
    "    lst3 (list): a list of daily carbohydrate intake(g) in a certain time period provided by the user\n",
    "    lst4 (list): a list of sequential days for a certain time period obtained from the user\n",
    "\n",
    "    Returns:\n",
    "    show linked plotting graphs of three nutrients intake for a certain time period\n",
    "    \n",
    "    \"\"\"\n",
    "    \n",
    "    try:\n",
    "        if not all(isinstance(x, (int, float)) for x in lst1):\n",
    "            raise InputError(lst1)\n",
    "        elif not all(isinstance(x, (int, float)) for x in lst2):\n",
    "            raise InputError(lst2)\n",
    "        elif not all(isinstance(x, (int, float)) for x in lst3):\n",
    "            raise InputError(lst3)\n",
    "        elif not all(isinstance(x, (int, float)) for x in lst4):\n",
    "            raise InputError(lst4)\n",
    "            \n",
    "        output_file('nutrients.html')\n",
    "        s1 = figure(plot_width=450, plot_height=350, title=\"Daily Protein Intake\", x_axis_label='Days', y_axis_label='Protein(g)')\n",
    "        if len(lst1) < 7:\n",
    "            raise LengthError(lst1) \n",
    "        elif len(lst2) < 7:\n",
    "            raise LengthError(lst2)\n",
    "        elif len(lst3) < 7:\n",
    "            raise LengthError(lst3)\n",
    "        elif len(lst4) < 7:\n",
    "            raise LengthError(lst4)\n",
    "        s1.circle(lst4, lst1, size=10, color='navy', alpha=0.5)\n",
    "        s2 = figure(plot_width=450, plot_height=350, x_range=s1.x_range, y_range=s1.y_range,\n",
    "                   title=\"Daily Fat Intake\", x_axis_label='Days', y_axis_label='Fat(g)')\n",
    "        s2.triangle(lst4, lst2, size=10, color='firebrick', alpha=0.5)\n",
    "        s3 = figure(plot_width=450, plot_height=350, x_range=s1.x_range, y_range=s1.y_range,\n",
    "                   title=\"Daily Carbohydrate Intake\", x_axis_label='Days', y_axis_label='Carbohydrate(g)')\n",
    "        s3.square(lst4, lst3, size=10, color='olive', alpha=0.5)\n",
    "\n",
    "        p = gridplot([[s1, s2, s3]], toolbar_location=None)\n",
    "        show(p)\n",
    "    \n",
    "    except InputError as ex:\n",
    "        print('Exception raised:', ex.value, 'contains non-numeric value')\n",
    "    except LengthError as ex:\n",
    "        print('Exception raised:', ex.value, 'is not enough for tracking')\n",
    "    except ValueError as ex:\n",
    "        print(ex)\n",
    "    except:\n",
    "        print('There is an error') \n",
    "\n",
    "    \n",
    "def calorieTrack(lst1, lst2, num):\n",
    "    \n",
    "    \"\"\"\n",
    "    Description of the Function\n",
    "\n",
    "    Parameters:\n",
    "    lst1 (list): a list of daily calorie intake in a certain time period calculated by info provided by the user\n",
    "    lst2 (list): a list of sequential days for a certain time period obtained from the user\n",
    "    num (float): average calorie intake for a certain period of time\n",
    "\n",
    "    Returns:\n",
    "    show the graph of the total daily calorie intake for a certain period of time\n",
    "    \n",
    "    \"\"\"\n",
    "    try:\n",
    "        if len(lst1) != len(lst2):\n",
    "            raise EqualityError('Two lists')\n",
    "        output_file('calories.html')\n",
    "        if not all(isinstance(x, (int, float)) for x in lst1):\n",
    "            raise InputError(lst1)\n",
    "        elif not all(isinstance(x, (int, float)) for x in lst2):\n",
    "            raise InputError(lst2)\n",
    "            \n",
    "        source = ColumnDataSource(data=dict(x = lst2, y = lst1))\n",
    "        hover = HoverTool(tooltips=[('index', '$index'), ('y', '@y')])\n",
    "        p = figure(plot_width =750, plot_height =500, tools=[hover], title='Daily Calorie Intake',\n",
    "                  x_axis_label='Days', y_axis_label='Calorie')\n",
    "        p.line('x', 'y', line_width=3, source=source)\n",
    "        p.circle('x', 'y', size=20, source=source)\n",
    "        show(p)\n",
    "        \n",
    "    except InputError as ex:\n",
    "        print('Exception raised:', ex.value, 'contains non-numeric value')\n",
    "#     except LengthError as ex:\n",
    "#         print('Exception raised:', ex.value, 'is not enough for tracking')\n",
    "    except EqualityError as ex:\n",
    "        print('Exception raised: length of', ex.value, 'are not equal')\n",
    "    except:\n",
    "        print('There is an error') \n",
    "    \n"
   ]
  },
  {
   "cell_type": "code",
   "execution_count": 36,
   "metadata": {},
   "outputs": [
    {
     "name": "stdin",
     "output_type": "stream",
     "text": [
      "Enter your daily protein intake in gram, separated by spaces 50 60 45 87 32 15 69 54 20 32 65 78\n",
      "Enter your daily fat intake in gram, separated by spaces 47 40 45 45 32 15 14 36 20 15 20 54\n",
      "Enter your daily carbohydrate intake in gram, separated by spaces 126 155 102 87 135 120 69 69 88 78 90 100\n"
     ]
    },
    {
     "data": {
      "text/plain": [
       "[1127.0,\n",
       " 1220.0,\n",
       " 993.0,\n",
       " 1101.0,\n",
       " 956.0,\n",
       " 675.0,\n",
       " 678.0,\n",
       " 816.0,\n",
       " 612.0,\n",
       " 575.0,\n",
       " 800.0,\n",
       " 1198.0]"
      ]
     },
     "execution_count": 36,
     "metadata": {},
     "output_type": "execute_result"
    }
   ],
   "source": [
    "entry()"
   ]
  },
  {
   "cell_type": "markdown",
   "metadata": {},
   "source": [
    "Random numbers for entering in the entries:\n",
    "\n",
    "Protein -- 50 60 45 87 32 15 69 54 20 32 65 78\n",
    "\n",
    "- 50.0 60.0 45.0 87.0 32.0 69.0 78.0\n",
    "\n",
    "Fat -- 47 40 45 45 32 15 14 36 20 15 20 54\n",
    "\n",
    "- 47 40 45 45 36 20 54\n",
    "\n",
    "Carb -- 126 155 102 87 135 120 69 69 88 78 90 100\n",
    "\n",
    "- \n",
    "                                                                             "
   ]
  },
  {
   "cell_type": "code",
   "execution_count": 23,
   "metadata": {},
   "outputs": [
    {
     "name": "stdout",
     "output_type": "stream",
     "text": [
      "Exception raised: [50, 60, 45, 87, 32, 15, 69, 'hj', 20, 32, 65, 78] contains non-numeric value\n"
     ]
    }
   ],
   "source": [
    "nutriTrack([50,60,45,87,32,15,69,'hj',20,32,65,78], [47,40,45,45,32,15,14,36,20,15,20,54], \n",
    "           [126,155,102,87,135,120,169,69,88,78,90,100], [1,2,3,4,5,6,7,8,9,10,11,12])"
   ]
  },
  {
   "cell_type": "markdown",
   "metadata": {},
   "source": [
    "Protein -- [50,60,45,87,32,15,69,54,20,32,65,78]\n",
    "\n",
    "Fat -- [47,40,45,45,32,15,14,36,20,15,20,54]\n",
    "\n",
    "Carb -- [126,155,102,87,135,120,169,69,88,78,90,100]\n",
    "\n",
    "Day -- [1,2,3,4,5,6,7,8,9,10,11,12]"
   ]
  },
  {
   "cell_type": "code",
   "execution_count": 25,
   "metadata": {},
   "outputs": [
    {
     "name": "stdout",
     "output_type": "stream",
     "text": [
      "Exception raised: [1127.0, 1220.0, 993.0, 'abc', 956.0, 675.0, 678.0, 816.0, 612.0, 575.0, 800.0, 1198.0] contains non-numeric value\n"
     ]
    }
   ],
   "source": [
    "calorieTrack([1127.0,1220.0,993.0,'abc', 956.0,675.0,678.0,816.0,612.0,575.0,800.0,1198.0], [1,2,3,4,5,6,7,8,9,10,11,12], 2060)"
   ]
  },
  {
   "cell_type": "code",
   "execution_count": 26,
   "metadata": {},
   "outputs": [
    {
     "name": "stdout",
     "output_type": "stream",
     "text": [
      "Exception raised: length of Two lists are not equal\n"
     ]
    }
   ],
   "source": [
    "calorieTrack([1127.0,1220.0,993.0,1265, 956.0,675.0,678.0,816.0,612.0,575.0,800.0,1198.0], [1,2,3,4,5,6,7,8,9,10,11], 2060)"
   ]
  },
  {
   "cell_type": "code",
   "execution_count": null,
   "metadata": {},
   "outputs": [],
   "source": []
  }
 ],
 "metadata": {
  "kernelspec": {
   "display_name": "Python 3",
   "language": "python",
   "name": "python3"
  },
  "language_info": {
   "codemirror_mode": {
    "name": "ipython",
    "version": 3
   },
   "file_extension": ".py",
   "mimetype": "text/x-python",
   "name": "python",
   "nbconvert_exporter": "python",
   "pygments_lexer": "ipython3",
   "version": "3.8.3"
  }
 },
 "nbformat": 4,
 "nbformat_minor": 4
}
